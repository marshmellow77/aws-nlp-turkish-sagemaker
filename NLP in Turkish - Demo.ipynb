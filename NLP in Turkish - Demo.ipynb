{
 "cells": [
  {
   "cell_type": "markdown",
   "id": "795aec77",
   "metadata": {},
   "source": [
    "# Teaching a Turkish language model new tricks"
   ]
  },
  {
   "cell_type": "markdown",
   "id": "87679792",
   "metadata": {},
   "source": [
    "Instead of creating a new Machine Learning (ML) model for every new task, we can leverage the concept of *Transfer Learning*. \n",
    "\n",
    "In particular, we can use generic language models and teach it new tasks by fine-tuning them using corresponding datasets. In this notebook we will use a Turkish language model created by the MDZ Digital Library team (dbmdz) at the Bavarian State Library (https://github.com/stefan-it/turkish-bert). We will use the Hugging Face Model Hub to download the model (https://huggingface.co/dbmdz/bert-base-turkish-uncased) and then fine-tune it to 2 very different tasks:\n",
    "\n",
    "- Sentiment Analysis\n",
    "- Question Answering"
   ]
  },
  {
   "cell_type": "markdown",
   "id": "c15afdf6",
   "metadata": {},
   "source": [
    "## SageMaker Setup"
   ]
  },
  {
   "cell_type": "code",
   "execution_count": 2,
   "id": "3ad28303",
   "metadata": {},
   "outputs": [
    {
     "name": "stdout",
     "output_type": "stream",
     "text": [
      "sagemaker role arn: arn:aws:iam::905847418383:role/service-role/AmazonSageMaker-ExecutionRole-20211005T160629\n",
      "sagemaker bucket: sagemaker-us-east-1-905847418383\n",
      "sagemaker session region: us-east-1\n"
     ]
    }
   ],
   "source": [
    "import sagemaker\n",
    "\n",
    "sess = sagemaker.Session()\n",
    "# sagemaker session bucket -> used for uploading data, models and logs\n",
    "# sagemaker will automatically create this bucket if it not exists\n",
    "sagemaker_session_bucket=None\n",
    "if sagemaker_session_bucket is None and sess is not None:\n",
    "    # set to default bucket if a bucket name is not given\n",
    "    sagemaker_session_bucket = sess.default_bucket()\n",
    "\n",
    "role = sagemaker.get_execution_role()\n",
    "sess = sagemaker.Session(default_bucket=sagemaker_session_bucket)\n",
    "\n",
    "print(f\"sagemaker role arn: {role}\")\n",
    "print(f\"sagemaker bucket: {sess.default_bucket()}\")\n",
    "print(f\"sagemaker session region: {sess.boto_region_name}\")"
   ]
  },
  {
   "cell_type": "code",
   "execution_count": 1,
   "id": "e05a844f",
   "metadata": {},
   "outputs": [],
   "source": [
    "tokenizer_name = 'dbmdz/bert-base-turkish-uncased'\n",
    "s3_prefix = 'samples/datasets/turkish_product_reviews'"
   ]
  },
  {
   "cell_type": "markdown",
   "id": "62dd3ea4",
   "metadata": {},
   "source": [
    "## Sentiment Analysis"
   ]
  },
  {
   "cell_type": "markdown",
   "id": "54c9dcdc",
   "metadata": {},
   "source": [
    "### Inspect the data\n",
    "\n",
    "Taken from https://huggingface.co/datasets/turkish_product_reviews"
   ]
  },
  {
   "cell_type": "code",
   "execution_count": 3,
   "id": "8dd5ab13",
   "metadata": {},
   "outputs": [],
   "source": [
    "training_input_path = f's3://{sess.default_bucket()}/{s3_prefix}/train'"
   ]
  },
  {
   "cell_type": "code",
   "execution_count": 4,
   "id": "892c3f6a",
   "metadata": {},
   "outputs": [],
   "source": [
    "import botocore\n",
    "from datasets.filesystems import S3FileSystem\n",
    "from datasets import load_from_disk\n",
    "\n",
    "s3_session = botocore.session.Session()\n",
    "s3 = S3FileSystem(session=s3_session)"
   ]
  },
  {
   "cell_type": "code",
   "execution_count": 5,
   "id": "ceb02d26",
   "metadata": {},
   "outputs": [],
   "source": [
    "dataset = load_from_disk(training_input_path, fs=s3)"
   ]
  },
  {
   "cell_type": "code",
   "execution_count": 7,
   "id": "a6baabad",
   "metadata": {},
   "outputs": [],
   "source": [
    "import pandas as pd\n",
    "df_train = pd.DataFrame(dataset)"
   ]
  },
  {
   "cell_type": "code",
   "execution_count": 18,
   "id": "c6ac4e47",
   "metadata": {},
   "outputs": [],
   "source": [
    "pd.set_option('display.max_colwidth', 0)"
   ]
  },
  {
   "cell_type": "code",
   "execution_count": 19,
   "id": "5cf7cab4",
   "metadata": {},
   "outputs": [
    {
     "data": {
      "text/html": [
       "<div>\n",
       "<style scoped>\n",
       "    .dataframe tbody tr th:only-of-type {\n",
       "        vertical-align: middle;\n",
       "    }\n",
       "\n",
       "    .dataframe tbody tr th {\n",
       "        vertical-align: top;\n",
       "    }\n",
       "\n",
       "    .dataframe thead th {\n",
       "        text-align: right;\n",
       "    }\n",
       "</style>\n",
       "<table border=\"1\" class=\"dataframe\">\n",
       "  <thead>\n",
       "    <tr style=\"text-align: right;\">\n",
       "      <th></th>\n",
       "      <th>sentence</th>\n",
       "      <th>labels</th>\n",
       "    </tr>\n",
       "  </thead>\n",
       "  <tbody>\n",
       "    <tr>\n",
       "      <th>15</th>\n",
       "      <td>herkese tavsiye ederim.</td>\n",
       "      <td>1</td>\n",
       "    </tr>\n",
       "    <tr>\n",
       "      <th>16</th>\n",
       "      <td>isınması geç, ızgara için iki tarafı da kullanıldığında arkadaki ızgarayı kapatırken içindeki yağlar aradan bağlantı kablosuna akıyor. izgara sonrası temizlemek çok zor. yanında verilen temizleme aparatı çok da işe yaramıyor. oluşan yağın akması için yapılan yere yağ akmıyor.</td>\n",
       "      <td>0</td>\n",
       "    </tr>\n",
       "    <tr>\n",
       "      <th>17</th>\n",
       "      <td>ürün anlatıldığı gibi.  saçı yumuşatıyor kolay hacim almasını sağlıyor ve parlatıyor ama parlaklığı uzun sürmüyor</td>\n",
       "      <td>1</td>\n",
       "    </tr>\n",
       "    <tr>\n",
       "      <th>18</th>\n",
       "      <td>tablonun zemin rengi fotoğraflarda göründüğünden çok daha koyu bir yeşil..</td>\n",
       "      <td>0</td>\n",
       "    </tr>\n",
       "    <tr>\n",
       "      <th>19</th>\n",
       "      <td>su geçirmez,desenli alezli visko yatak.bana gelen üründe koku yok.fotoğraftaki ürün birebir. hızlı kargo.fiyatının karşılığını bulabileceğiniz kaliteli bir yatak.simdiden hayırlı olsun bebelerimize :)</td>\n",
       "      <td>1</td>\n",
       "    </tr>\n",
       "  </tbody>\n",
       "</table>\n",
       "</div>"
      ],
      "text/plain": [
       "                                                                                                                                                                                                                                                                                sentence  \\\n",
       "15  herkese tavsiye ederim.                                                                                                                                                                                                                                                                \n",
       "16  isınması geç, ızgara için iki tarafı da kullanıldığında arkadaki ızgarayı kapatırken içindeki yağlar aradan bağlantı kablosuna akıyor. izgara sonrası temizlemek çok zor. yanında verilen temizleme aparatı çok da işe yaramıyor. oluşan yağın akması için yapılan yere yağ akmıyor.   \n",
       "17  ürün anlatıldığı gibi.  saçı yumuşatıyor kolay hacim almasını sağlıyor ve parlatıyor ama parlaklığı uzun sürmüyor                                                                                                                                                                      \n",
       "18  tablonun zemin rengi fotoğraflarda göründüğünden çok daha koyu bir yeşil..                                                                                                                                                                                                             \n",
       "19  su geçirmez,desenli alezli visko yatak.bana gelen üründe koku yok.fotoğraftaki ürün birebir. hızlı kargo.fiyatının karşılığını bulabileceğiniz kaliteli bir yatak.simdiden hayırlı olsun bebelerimize :)                                                                               \n",
       "\n",
       "    labels  \n",
       "15  1       \n",
       "16  0       \n",
       "17  1       \n",
       "18  0       \n",
       "19  1       "
      ]
     },
     "execution_count": 19,
     "metadata": {},
     "output_type": "execute_result"
    }
   ],
   "source": [
    "df_train[['sentence', 'labels']].iloc[15:20]"
   ]
  },
  {
   "cell_type": "markdown",
   "id": "caeb90c9",
   "metadata": {},
   "source": [
    "### Model Training"
   ]
  },
  {
   "cell_type": "code",
   "execution_count": null,
   "id": "7293eb91",
   "metadata": {},
   "outputs": [],
   "source": [
    "from sagemaker.huggingface import HuggingFace\n",
    "\n",
    "# hyperparameters, which are passed into the training job\n",
    "hyperparameters={'epochs': 1,\n",
    "                 'train_batch_size': 8,\n",
    "                 'model_name': tokenizer_name\n",
    "                 }"
   ]
  },
  {
   "cell_type": "code",
   "execution_count": null,
   "id": "f9e1ba8b",
   "metadata": {},
   "outputs": [],
   "source": [
    "huggingface_estimator = HuggingFace(entry_point='train.py',\n",
    "                            source_dir='./scripts',\n",
    "                            instance_type='ml.p3.2xlarge',\n",
    "                            instance_count=1,\n",
    "                            role=role,\n",
    "                            transformers_version='4.6',\n",
    "                            pytorch_version='1.7',\n",
    "                            py_version='py36',\n",
    "                            hyperparameters = hyperparameters)"
   ]
  },
  {
   "cell_type": "code",
   "execution_count": null,
   "id": "bbcfcb63",
   "metadata": {},
   "outputs": [],
   "source": [
    "huggingface_estimator.fit({'train': training_input_path, 'test': test_input_path})"
   ]
  },
  {
   "cell_type": "code",
   "execution_count": null,
   "id": "1eb07242",
   "metadata": {},
   "outputs": [],
   "source": [
    "from sagemaker.estimator import Estimator\n",
    "huggingface_estimator = Estimator.attach(\"huggingface-pytorch-training-2021-10-01-16-52-39-333\")"
   ]
  },
  {
   "cell_type": "markdown",
   "id": "b805e934",
   "metadata": {},
   "source": [
    "### Model Deployment"
   ]
  },
  {
   "cell_type": "code",
   "execution_count": 30,
   "id": "c5aa56ee",
   "metadata": {},
   "outputs": [],
   "source": [
    "from sagemaker.huggingface import HuggingFaceModel\n",
    "import sagemaker \n",
    "\n",
    "role = sagemaker.get_execution_role()\n",
    "\n",
    "# create Hugging Face Model Class\n",
    "huggingface_model_sentiment = HuggingFaceModel(\n",
    "   model_data=\"s3://sagemaker-us-east-1-905847418383/huggingface-pytorch-training-2021-10-01-16-52-39-333/output/model.tar.gz\",\n",
    "   role=role, # \n",
    "   transformers_version=\"4.6\", \n",
    "   pytorch_version=\"1.7\", \n",
    "   py_version=\"py36\", \n",
    ")"
   ]
  },
  {
   "cell_type": "code",
   "execution_count": 31,
   "id": "2e9de2d1",
   "metadata": {},
   "outputs": [
    {
     "name": "stdout",
     "output_type": "stream",
     "text": [
      "----------------!"
     ]
    }
   ],
   "source": [
    "predictor = huggingface_model_sentiment.deploy(1, \"ml.m5.xlarge\")"
   ]
  },
  {
   "cell_type": "markdown",
   "id": "6f480012",
   "metadata": {},
   "source": [
    "### Model Testing"
   ]
  },
  {
   "cell_type": "code",
   "execution_count": 32,
   "id": "2a7afcaa",
   "metadata": {},
   "outputs": [
    {
     "data": {
      "text/plain": [
       "[{'label': 'LABEL_0', 'score': 0.9829983711242676}]"
      ]
     },
     "execution_count": 32,
     "metadata": {},
     "output_type": "execute_result"
    }
   ],
   "source": [
    "sentiment_input= {\"inputs\": \"Bu oldukça kötü bir ürün, bunu kimseye tavsiye etmem\"}\n",
    "predictor.predict(sentiment_input)"
   ]
  },
  {
   "cell_type": "code",
   "execution_count": 42,
   "id": "f8b7b9bd",
   "metadata": {},
   "outputs": [
    {
     "data": {
      "text/plain": [
       "[{'label': 'LABEL_1', 'score': 0.9976404905319214}]"
      ]
     },
     "execution_count": 42,
     "metadata": {},
     "output_type": "execute_result"
    }
   ],
   "source": [
    "sentiment_input= {\"inputs\": \"Bu şampuanı seviyorum, saçlarımı çok parlak yapıyor\"}\n",
    "predictor.predict(sentiment_input)"
   ]
  },
  {
   "cell_type": "markdown",
   "id": "9f15134f",
   "metadata": {},
   "source": [
    "## Question Answering"
   ]
  },
  {
   "cell_type": "markdown",
   "id": "68877139",
   "metadata": {},
   "source": [
    "### Inspecting the data\n",
    "\n",
    "Taken from https://github.com/TQuad/turkish-nlp-qa-dataset"
   ]
  },
  {
   "cell_type": "code",
   "execution_count": 22,
   "id": "5d89ed57",
   "metadata": {},
   "outputs": [],
   "source": [
    "data_files = {}\n",
    "data_files[\"train\"] = 'data/train.json'\n",
    "data_files[\"validation\"] = 'data/val.json'"
   ]
  },
  {
   "cell_type": "code",
   "execution_count": 25,
   "id": "8936134e",
   "metadata": {},
   "outputs": [
    {
     "name": "stderr",
     "output_type": "stream",
     "text": [
      "Using custom data configuration default-8dc8d5e84c5485b6\n",
      "Reusing dataset json (/home/ec2-user/.cache/huggingface/datasets/json/default-8dc8d5e84c5485b6/0.0.0/83d5b3a2f62630efc6b5315f00f20209b4ad91a00ac586597caee3a4da0bef02)\n"
     ]
    }
   ],
   "source": [
    "from datasets import load_dataset\n",
    "ds = load_dataset(\"json\", data_files=data_files)"
   ]
  },
  {
   "cell_type": "code",
   "execution_count": 26,
   "id": "3e628be0",
   "metadata": {},
   "outputs": [],
   "source": [
    "df = pd.DataFrame(ds['train'])"
   ]
  },
  {
   "cell_type": "code",
   "execution_count": 29,
   "id": "f2f57973",
   "metadata": {},
   "outputs": [
    {
     "data": {
      "text/html": [
       "<div>\n",
       "<style scoped>\n",
       "    .dataframe tbody tr th:only-of-type {\n",
       "        vertical-align: middle;\n",
       "    }\n",
       "\n",
       "    .dataframe tbody tr th {\n",
       "        vertical-align: top;\n",
       "    }\n",
       "\n",
       "    .dataframe thead th {\n",
       "        text-align: right;\n",
       "    }\n",
       "</style>\n",
       "<table border=\"1\" class=\"dataframe\">\n",
       "  <thead>\n",
       "    <tr style=\"text-align: right;\">\n",
       "      <th></th>\n",
       "      <th>id</th>\n",
       "      <th>title</th>\n",
       "      <th>context</th>\n",
       "      <th>question</th>\n",
       "      <th>answers</th>\n",
       "    </tr>\n",
       "  </thead>\n",
       "  <tbody>\n",
       "    <tr>\n",
       "      <th>2531</th>\n",
       "      <td>2729</td>\n",
       "      <td>Huneyn bin İshak</td>\n",
       "      <td>Huneyn bin İshak (d. 810- ö. 873) Abbasi döneminde yaşamış ünlü bir mütercim ve hekimdir. Tam künyesi \"Ebu Zeyd Huneyn bin İshak el-İbadi'\"dir. Hristiyan bir Arap aşireti olan İbad'a mensuptur . Arapça, Süryanice, Grekçe'yi çok iyi derecede bilen Huneyn, bu, dillerdeki yetkinliği ve tercümelerinin kalitesi sebebiyle Abbasi halifesi Memun döneminden El-Mutasım dönemine kadar Bağdat'a hekimlik ve mütercimlik yapmıştır . Pehlevice bildiği rivayet edilse de ders aldığı kişi, Halil bin Ahmed (ö. 791), o dünyaya gelmeden ölmüştür . İki oğlu vardır: Birinin adı Davut'tur ve çağında yetkin bir pratisyen hekim olarak tanınmıştır. Diğerinin adı ise İshak'tır ve İshak, babasından bile yetenekli tercüman olarak tanınmıştır.</td>\n",
       "      <td>Huneyn bin İshak’ın tam adı nedir?</td>\n",
       "      <td>{'text': ['Ebu Zeyd Huneyn bin İshak el-İbadi'], 'answer_start': [103]}</td>\n",
       "    </tr>\n",
       "    <tr>\n",
       "      <th>5654</th>\n",
       "      <td>6382</td>\n",
       "      <td>Baykar Makina</td>\n",
       "      <td>Bayraktar Taktik İHA Sistemi, 17 Aralık 2015 tarihinde 2 adet Roketsan MAM-L güdümlü füzesi yüklü şekilde yapılan atış testinde %100 isabet ile hedefleri vurma başarısını göstermiştir. Bu deneme ile keşif ve gözetleme yaparken, anlık olarak ortaya çıkan hedefleri vurabileceğini gösterdi</td>\n",
       "      <td>Roketsan MAM-L güdümlü füzesi yüklü şekilde yapılan atış testinde ne kadar başarı sağlamıştır?</td>\n",
       "      <td>{'text': ['%100'], 'answer_start': [128]}</td>\n",
       "    </tr>\n",
       "    <tr>\n",
       "      <th>2625</th>\n",
       "      <td>2849</td>\n",
       "      <td>İsenbike Togan</td>\n",
       "      <td>1990 yılında 'UNESCO Orta Asya Uygarlıkları Tarihini Yazma Komitesi'nin (UNESCO International Scientific Committee for the drafting of a History of Civilisations of Central Asia) bir üyesi olmuş ve aynı dönemde UNESCO İpek Yolu Araştırmaları (UNESCO Integral Study of the Silk Roads) projesi ile 1990'da Çin Halk Cumhuriyeti ve 1991'de Özbekistan, Tacikistan, Kazakistan ve Kırgızistan'da araştırmalar yapmıştır. 1992'de Türkiye'ye dönmüş ve doçentliğini alarak, ODTÜ Tarih Bölümü'nde öğretim üyeliği yapmaya devam etmiştir. 1995 yılında da Profesör olmuştur. 2006 yılında ODTÜ Tarih Bölümü'nden emekli olmuş ancak günümüzde Boğaziçi Üniversitesi'nde Çin tarihi dersleri vermeye devam etmektedir. Ayrıca Türk Tarih Kurumu, 'Türk-Rus Tarihçileri Karma Komisyonu' üyesidir.</td>\n",
       "      <td>İsenbike Togan hangi yılda emekli olmuştur?</td>\n",
       "      <td>{'text': ['2006 yılında '], 'answer_start': [560]}</td>\n",
       "    </tr>\n",
       "  </tbody>\n",
       "</table>\n",
       "</div>"
      ],
      "text/plain": [
       "        id             title  \\\n",
       "2531  2729  Huneyn bin İshak   \n",
       "5654  6382  Baykar Makina      \n",
       "2625  2849  İsenbike Togan     \n",
       "\n",
       "                                                                                                                                                                                                                                                                                                                                                                                                                                                                                                                                                                                                                                                                                                                                                                                                  context  \\\n",
       "2531  Huneyn bin İshak (d. 810- ö. 873) Abbasi döneminde yaşamış ünlü bir mütercim ve hekimdir. Tam künyesi \"Ebu Zeyd Huneyn bin İshak el-İbadi'\"dir. Hristiyan bir Arap aşireti olan İbad'a mensuptur . Arapça, Süryanice, Grekçe'yi çok iyi derecede bilen Huneyn, bu, dillerdeki yetkinliği ve tercümelerinin kalitesi sebebiyle Abbasi halifesi Memun döneminden El-Mutasım dönemine kadar Bağdat'a hekimlik ve mütercimlik yapmıştır . Pehlevice bildiği rivayet edilse de ders aldığı kişi, Halil bin Ahmed (ö. 791), o dünyaya gelmeden ölmüştür . İki oğlu vardır: Birinin adı Davut'tur ve çağında yetkin bir pratisyen hekim olarak tanınmıştır. Diğerinin adı ise İshak'tır ve İshak, babasından bile yetenekli tercüman olarak tanınmıştır.                                                     \n",
       "5654  Bayraktar Taktik İHA Sistemi, 17 Aralık 2015 tarihinde 2 adet Roketsan MAM-L güdümlü füzesi yüklü şekilde yapılan atış testinde %100 isabet ile hedefleri vurma başarısını göstermiştir. Bu deneme ile keşif ve gözetleme yaparken, anlık olarak ortaya çıkan hedefleri vurabileceğini gösterdi                                                                                                                                                                                                                                                                                                                                                                                                                                                                                                       \n",
       "2625  1990 yılında 'UNESCO Orta Asya Uygarlıkları Tarihini Yazma Komitesi'nin (UNESCO International Scientific Committee for the drafting of a History of Civilisations of Central Asia) bir üyesi olmuş ve aynı dönemde UNESCO İpek Yolu Araştırmaları (UNESCO Integral Study of the Silk Roads) projesi ile 1990'da Çin Halk Cumhuriyeti ve 1991'de Özbekistan, Tacikistan, Kazakistan ve Kırgızistan'da araştırmalar yapmıştır. 1992'de Türkiye'ye dönmüş ve doçentliğini alarak, ODTÜ Tarih Bölümü'nde öğretim üyeliği yapmaya devam etmiştir. 1995 yılında da Profesör olmuştur. 2006 yılında ODTÜ Tarih Bölümü'nden emekli olmuş ancak günümüzde Boğaziçi Üniversitesi'nde Çin tarihi dersleri vermeye devam etmektedir. Ayrıca Türk Tarih Kurumu, 'Türk-Rus Tarihçileri Karma Komisyonu' üyesidir.   \n",
       "\n",
       "                                                                                            question  \\\n",
       "2531  Huneyn bin İshak’ın tam adı nedir?                                                               \n",
       "5654  Roketsan MAM-L güdümlü füzesi yüklü şekilde yapılan atış testinde ne kadar başarı sağlamıştır?   \n",
       "2625  İsenbike Togan hangi yılda emekli olmuştur?                                                      \n",
       "\n",
       "                                                                      answers  \n",
       "2531  {'text': ['Ebu Zeyd Huneyn bin İshak el-İbadi'], 'answer_start': [103]}  \n",
       "5654  {'text': ['%100'], 'answer_start': [128]}                                \n",
       "2625  {'text': ['2006 yılında '], 'answer_start': [560]}                       "
      ]
     },
     "execution_count": 29,
     "metadata": {},
     "output_type": "execute_result"
    }
   ],
   "source": [
    "df.sample(3)"
   ]
  },
  {
   "cell_type": "markdown",
   "id": "c084d1e7",
   "metadata": {},
   "source": [
    "### Model Training"
   ]
  },
  {
   "cell_type": "code",
   "execution_count": null,
   "id": "69a7b805",
   "metadata": {},
   "outputs": [],
   "source": [
    "from sagemaker.huggingface import HuggingFace\n",
    "\n",
    "hyperparameters={\n",
    "    'model_name_or_path': 'dbmdz/bert-base-turkish-uncased',\n",
    "    'train_file': '/opt/ml/input/data/train/train.json',\n",
    "    'validation_file': '/opt/ml/input/data/val/val.json',\n",
    "    'do_train': True,\n",
    "    'do_eval': False,\n",
    "    'fp16': True,\n",
    "    'per_device_train_batch_size': 4,\n",
    "    'per_device_eval_batch_size': 4,\n",
    "    'num_train_epochs': 2,\n",
    "    'max_seq_length': 384,\n",
    "    'pad_to_max_length': True,\n",
    "    'doc_stride': 128,\n",
    "    'output_dir': '/opt/ml/model'\n",
    "}\n",
    "\n",
    "instance_type = 'ml.p3.16xlarge'\n",
    "instance_count = 1\n",
    "volume_size = 200"
   ]
  },
  {
   "cell_type": "code",
   "execution_count": null,
   "id": "81bccc54",
   "metadata": {},
   "outputs": [],
   "source": [
    "huggingface_estimator = HuggingFace(entry_point='run_qa.py',\n",
    "                                    source_dir='./scripts',\n",
    "                                    instance_type=instance_type,\n",
    "                                    instance_count=instance_count,\n",
    "                                    volume_size=volume_size,\n",
    "                                    role=role,\n",
    "                                    transformers_version='4.10',\n",
    "                                    pytorch_version='1.9',\n",
    "                                    py_version='py38',\n",
    "                                    hyperparameters= hyperparameters,\n",
    "                                    disable_profiler=True,\n",
    "                                   )"
   ]
  },
  {
   "cell_type": "code",
   "execution_count": null,
   "id": "b8a40f53",
   "metadata": {},
   "outputs": [],
   "source": [
    "huggingface_estimator.fit({'train': 's3://sagemaker-us-east-1-905847418383/qa-tr/data/', 'val': 's3://sagemaker-us-east-1-905847418383/qa-tr/data/'})"
   ]
  },
  {
   "cell_type": "markdown",
   "id": "2782d3a7",
   "metadata": {},
   "source": [
    "### Model Deployment"
   ]
  },
  {
   "cell_type": "code",
   "execution_count": 36,
   "id": "09fda90c",
   "metadata": {},
   "outputs": [],
   "source": [
    "from sagemaker.huggingface import HuggingFaceModel\n",
    "import sagemaker \n",
    "\n",
    "role = sagemaker.get_execution_role()\n",
    "\n",
    "# create Hugging Face Model Class\n",
    "huggingface_model_qa = HuggingFaceModel(\n",
    "   model_data=\"s3://sagemaker-us-east-1-905847418383/huggingface-pytorch-training-2021-10-12-05-07-28-087/output/model.tar.gz\",\n",
    "   role=role, # \n",
    "   transformers_version=\"4.10\", \n",
    "   pytorch_version=\"1.9\", \n",
    "   py_version=\"py38\", \n",
    ")"
   ]
  },
  {
   "cell_type": "code",
   "execution_count": 37,
   "id": "7687960d",
   "metadata": {},
   "outputs": [
    {
     "name": "stdout",
     "output_type": "stream",
     "text": [
      "-----!"
     ]
    }
   ],
   "source": [
    "predictor_qa = huggingface_model_qa.deploy(\n",
    "   initial_instance_count=1,\n",
    "   instance_type=\"ml.m5.xlarge\"\n",
    ")"
   ]
  },
  {
   "cell_type": "markdown",
   "id": "9cd2dd29",
   "metadata": {},
   "source": [
    "### Model Testing"
   ]
  },
  {
   "cell_type": "code",
   "execution_count": 41,
   "id": "7c9337c4",
   "metadata": {},
   "outputs": [
    {
     "data": {
      "text/plain": [
       "'Babasının ölümü üzerine'"
      ]
     },
     "execution_count": 41,
     "metadata": {},
     "output_type": "execute_result"
    }
   ],
   "source": [
    "data = {\n",
    "\"inputs\": {\n",
    "    \"question\": \"Ne zaman avare bir hayata başladı?\",\n",
    "    \"context\": \"\"\"ABASIYANIK, Sait Faik. Hikayeci (Adapazarı 23 Kasım 1906-İstanbul 11 Mayıs 1954). \\\n",
    "İlk öğrenimine Adapazarı’nda Rehber-i Terakki Mektebi’nde başladı. İki yıl kadar Adapazarı İdadisi’nde okudu.\\\n",
    "İstanbul Erkek Lisesi’nde devam ettiği orta öğrenimini Bursa Lisesi’nde tamamladı (1928). İstanbul Edebiyat \\\n",
    "Fakültesi’ne iki yıl devam ettikten sonra babasının isteği üzerine iktisat öğrenimi için İsviçre’ye gitti. \\\n",
    "Kısa süre sonra iktisat öğrenimini bırakarak Lozan’dan Grenoble’a geçti. Üç yıl başıboş bir edebiyat öğrenimi \\\n",
    "gördükten sonra babası tarafından geri çağrıldı (1933). Bir müddet Halıcıoğlu Ermeni Yetim Mektebi'nde Türkçe \\\n",
    "gurup dersleri öğretmenliği yaptı. Ticarete atıldıysa da tutunamadı. Bir ay Haber gazetesinde adliye muhabirliği\\\n",
    "yaptı (1942). Babasının ölümü üzerine aileden kalan emlakin geliri ile avare bir hayata başladı. Evlenemedi.\\\n",
    "Yazları Burgaz adasındaki köşklerinde, kışları Şişli’deki apartmanlarında annesi ile beraber geçen bu fazla \\\n",
    "içkili bohem hayatı ömrünün sonuna kadar sürdü.\"\"\"\n",
    "    }\n",
    "}\n",
    "predictor_qa.predict(data)['answer']"
   ]
  },
  {
   "cell_type": "code",
   "execution_count": 47,
   "id": "ca598bfd",
   "metadata": {},
   "outputs": [
    {
     "data": {
      "text/plain": [
       "\"Nazi Partisi'nin iktidara yükselişi nedeniyle\""
      ]
     },
     "execution_count": 47,
     "metadata": {},
     "output_type": "execute_result"
    }
   ],
   "source": [
    "data = {\n",
    "\"inputs\": {\n",
    "    \"question\": \"Einstein Almanya'dan neden ayrıldı? \",\n",
    "    \"context\": \"\"\"Alman İmparatorluğu'nun Ulm kentinde, Aşkenazi Yahudi bir ailede dünyaya gelen Einstein, yaşamının ilk yıllarını Münih'te geçirdi. Lise eğitimini ve yüksek eğitimini İsviçre'de tamamladı; fakat bir üniversitede iş bulmada yaşadığı zorluklar nedeniyle bir patent ofisinde müfettiş olarak çalışmaya başladı. 1905 yılı Einstein için bir mucize yıl oldu ve o dönemde kuramları hemen benimsenmemiş olsa da ileride fizikte devrim yaratacak olan dört makale yayımladı. 1914 yılında Max Planck'ın kişisel ricası ile Almanya'ya geri döndü. 1921 yılında fotoelektrik etki üzerine çalışmaları nedeniyle Nobel Fizik Ödülü'ne layık görüldü. Nazi Partisi'nin iktidara yükselişi nedeniyle 1933'te Almanya'yı terk etti ve Amerika Birleşik Devletleri'ne yerleşti. Ömrünün geri kalanını geçirdiği New Jersey eyaletinin Princeton ilçesinde ölmüştür. \"\"\"\n",
    "    }\n",
    "}\n",
    "predictor_qa.predict(data)['answer']"
   ]
  },
  {
   "cell_type": "code",
   "execution_count": null,
   "id": "4c7129fb",
   "metadata": {},
   "outputs": [],
   "source": []
  }
 ],
 "metadata": {
  "kernelspec": {
   "display_name": "conda_pytorch_latest_p37",
   "language": "python",
   "name": "conda_pytorch_latest_p37"
  },
  "language_info": {
   "codemirror_mode": {
    "name": "ipython",
    "version": 3
   },
   "file_extension": ".py",
   "mimetype": "text/x-python",
   "name": "python",
   "nbconvert_exporter": "python",
   "pygments_lexer": "ipython3",
   "version": "3.7.10"
  }
 },
 "nbformat": 4,
 "nbformat_minor": 5
}
